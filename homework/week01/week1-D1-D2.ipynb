{
 "cells": [
  {
   "cell_type": "markdown",
   "metadata": {},
   "source": [
    "# Table of Contents\n",
    "1. 张量与矩阵、向量、标量的关系\n",
    "2. `Variable` 赋予张量什么功能\n",
    "* 0.4.0 版本后`Variable` 已经并入`Tensor` \n",
    "3. 采用`torch.from_numpy()` 创建张量，并打印查看`ndarray`和张量数据的地址\n",
    "    * `torch.from_numpy(ndarray)`\n",
    "        * 3.1 创建`ndarray`数组\n",
    "        * 3.2 `ndarray`转`tensor`\n",
    "        * 3.3 修改`ndarray`，对应`tensor`也发生改变\n",
    "4. 实现torch.normal()创建张量的四种模式\n",
    "    * `torch.normal()`"
   ]
  },
  {
   "cell_type": "markdown",
   "metadata": {},
   "source": [
    "内容与图片参考于：\n",
    "- 深度之眼 - pytorch框架班（余霆嵩老师课程）\n",
    "- [超简单！pytorch入门教程（一）：Tensor](https://www.jianshu.com/p/5ae644748f21/) \n",
    "- [PyTorch 1.0 中文文档 & 教程](https://pytorch.apachecn.org/docs/1.0/)"
   ]
  },
  {
   "cell_type": "markdown",
   "metadata": {},
   "source": [
    "##  01. 张量与矩阵、向量、标量的关系？\n",
    "\n",
    "* 张量为一个多维数组，是标量、向量、矩阵的高维拓展。\n",
    "\n",
    "Tensor（张量）类似于NumPy的ndarray，但还可以在GPU上使用来加速计算。\n",
    "- 标量(Scalar)：0阶（$r=0$）张量\n",
    "- 向量(Vector)：1阶（$r=1$）张量\n",
    "- 矩阵(Matrix)：2阶（$r=2$）张量\n",
    "> 矩阵为二阶张量，是三阶张量(Volume)的一个二维切面\n",
    "\n",
    "![tensor](media/tensor.png)"
   ]
  },
  {
   "cell_type": "markdown",
   "metadata": {},
   "source": [
    "## 02. Variable“赋予”张量什么功能？\n",
    "`Variable`是`torch.autograd`中的数据类型，主要用于封装`Tensor`，进行**自动求导**\n",
    "- `data`: 被包装的`Tensor`\n",
    "- `grad`: `data`的梯度\n",
    "- `grad_fn`: 创建`Tensor`的`Function`，是自动求导的关键\n",
    "- `requires_grad`：指示是否需要梯度\n",
    "- `is_leaf`：指示是否叶子结点\n",
    "\n",
    "![Variable](media/Variable.png)\n",
    "\n",
    "> 0.4.0 版本后Variable已并入Tensor"
   ]
  },
  {
   "cell_type": "markdown",
   "metadata": {},
   "source": [
    "## 03.采用`torch.from_numpy()`创建张量，并打印查看`ndarray`和张量数据的地址\n",
    "* `torch.from_numpy(ndarray)`\n",
    "    - 功能：从`numpy`创建`tensor ` \n",
    "    - 注意事项：从`torch.from_numpy()`创建的`tensor`与`原ndarray`共享内存，当修改其中一个数据时，另外一个也将被改动"
   ]
  },
  {
   "cell_type": "markdown",
   "metadata": {},
   "source": [
    "### 3.1 创建ndarray数组"
   ]
  },
  {
   "cell_type": "code",
   "execution_count": null,
   "metadata": {},
   "outputs": [],
   "source": [
    "import torch\n",
    "import numpy as np\n",
    "arr = np.array([[1, 2, 3], [4, 5, 6]])\n",
    "arr, id(arr)"
   ]
  },
  {
   "cell_type": "markdown",
   "metadata": {},
   "source": [
    "### 3.2 ndarray转tensor"
   ]
  },
  {
   "cell_type": "code",
   "execution_count": null,
   "metadata": {},
   "outputs": [],
   "source": [
    "t = torch.from_numpy(arr)\n",
    "t, id(t)"
   ]
  },
  {
   "cell_type": "markdown",
   "metadata": {},
   "source": [
    "### 3.3 修改ndarray，对应tensor也发生改变"
   ]
  },
  {
   "cell_type": "code",
   "execution_count": null,
   "metadata": {},
   "outputs": [],
   "source": [
    "arr[0, 0] = 99\n",
    "arr, id(arr)\n",
    "t.data\n",
    "t, id(t)"
   ]
  },
  {
   "cell_type": "markdown",
   "metadata": {},
   "source": [
    "## 04. 实现`torch.normal()`创建张量的四种模式\n",
    "- `torch.normal()`\n",
    "- 功能：生成正太分布（高斯分布）\n",
    "- 四种模式\n",
    "    - 1. mean为标量，std为标量\n",
    "    - 2. mean为标量，std为张量 \n",
    "    - 3. mean为张量，std为标量\n",
    "    - 4. mean为张量，std为张量"
   ]
  },
  {
   "cell_type": "code",
   "execution_count": null,
   "metadata": {},
   "outputs": [],
   "source": [
    "# mean为标量，std为标量\n",
    "mean = 0\n",
    "std = 1\n",
    "t_normal = torch.normal(mean, std, size=(4,5))\n",
    "mean, std, t_normal"
   ]
  },
  {
   "cell_type": "code",
   "execution_count": null,
   "metadata": {},
   "outputs": [],
   "source": [
    "# mean为标量，std为张量\n",
    "mean = 1\n",
    "std = torch.arange(1, 5, dtype=torch.float)\n",
    "t_normal = torch.normal(mean, std)\n",
    "mean, std, t_normal"
   ]
  },
  {
   "cell_type": "code",
   "execution_count": null,
   "metadata": {},
   "outputs": [],
   "source": [
    "# mean为张量，std为标量\n",
    "mean = torch.arange(1, 5, dtype=torch.float)\n",
    "std = 1\n",
    "t_normal = torch.normal(mean, std)\n",
    "mean, std, t_normal"
   ]
  },
  {
   "cell_type": "code",
   "execution_count": null,
   "metadata": {},
   "outputs": [],
   "source": [
    "# mean为张量，std为张量\n",
    "mean = torch.arange(1, 5, dtype=torch.float)\n",
    "std = torch.arange(1, 5, dtype=torch.float)\n",
    "t_normal = torch.normal(mean, std)\n",
    "mean, std, t_normal"
   ]
  }
 ],
 "metadata": {
  "kernelspec": {
   "display_name": "Python 3",
   "language": "python",
   "name": "python3"
  },
  "language_info": {
   "codemirror_mode": {
    "name": "ipython",
    "version": 3
   },
   "file_extension": ".py",
   "mimetype": "text/x-python",
   "name": "python",
   "nbconvert_exporter": "python",
   "pygments_lexer": "ipython3",
   "version": "3.6.5-final"
  },
  "toc": {
   "base_numbering": 1,
   "nav_menu": {},
   "number_sections": false,
   "sideBar": true,
   "skip_h1_title": false,
   "title_cell": "Table of Contents",
   "title_sidebar": "Contents",
   "toc_cell": true,
   "toc_position": {
    "height": "calc(100% - 180px)",
    "left": "10px",
    "top": "150px",
    "width": "200.796875px"
   },
   "toc_section_display": true,
   "toc_window_display": false
  },
  "pycharm": {
   "stem_cell": {
    "cell_type": "raw",
    "source": [],
    "metadata": {
     "collapsed": false
    }
   }
  }
 },
 "nbformat": 4,
 "nbformat_minor": 2
}